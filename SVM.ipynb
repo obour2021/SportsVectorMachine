{
 "cells": [
  {
   "cell_type": "code",
   "execution_count": null,
   "metadata": {},
   "outputs": [],
   "source": [
    "import matplotlib.pyplot as plt\n",
    "from sklearn.svm import SVC\n",
    "from sklearn.model_selection import train_test_split\n",
    "from svm_visualization import draw_boundary\n",
    "from players import aaron_judge, jose_altuve, david_ortiz"
   ]
  },
  {
   "cell_type": "code",
   "execution_count": null,
   "metadata": {},
   "outputs": [],
   "source": [
    "# print(aaron_judge.columns)\n",
    "print(aaron_judge.description.unique())\n",
    "\n",
    "# print(aaron_judge['plate_x'])\n",
    "aaron_judge = aaron_judge.dropna(subset = ['plate_x', 'plate_z', 'type'])\n",
    "\n",
    "print(aaron_judge.type.unique())\n",
    "fig, ax = plt.subplots()"
   ]
  },
  {
   "cell_type": "code",
   "execution_count": null,
   "metadata": {},
   "outputs": [],
   "source": [
    "# predict function\n",
    "def Predict(parameter):\n",
    "  parameter['type'] = parameter['type'].map({'S':1, 'B':0})\n",
    "  parameter = parameter.dropna(subset = ['plate_x', 'plate_z', 'type'])\n",
    "  plt.scatter(x = parameter['plate_x'], y = parameter['plate_z'], c = parameter['type'],cmap = plt.cm.coolwarm, alpha=0.25)\n",
    "  training_set, validation_set = train_test_split(parameter, random_state = 1)\n",
    "  classifier = SVC(kernel = \"rbf\", gamma = 3 ,C = 1)\n",
    "  classifier.fit(training_set[['plate_x', 'plate_z']], training_set['type'])\n",
    "  ax.set_ylim(-2, 6)\n",
    "  ax.set_xlim(-3, 3)\n",
    "  draw_boundary(ax, classifier)\n",
    "  print(classifier.score(validation_set[['plate_x', 'plate_z']], validation_set['type']))\n",
    "\n",
    "  plt.show()\n",
    "\n",
    "Predict(aaron_judge)\n",
    "Predict(jose_altuve)\n",
    "Predict(david_ortiz)"
   ]
  }
 ],
 "metadata": {
  "kernelspec": {
   "display_name": "Python 3",
   "language": "python",
   "name": "python3"
  },
  "language_info": {
   "codemirror_mode": {
    "name": "ipython",
    "version": 3
   },
   "file_extension": ".py",
   "mimetype": "text/x-python",
   "name": "python",
   "nbconvert_exporter": "python",
   "pygments_lexer": "ipython3",
   "version": "3.7.3"
  }
 },
 "nbformat": 4,
 "nbformat_minor": 2
}
